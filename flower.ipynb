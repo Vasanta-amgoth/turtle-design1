{
 "cells": [
  {
   "cell_type": "code",
   "execution_count": null,
   "id": "a9ab7557-61d0-4e44-b2cb-42951a7c8e5c",
   "metadata": {},
   "outputs": [],
   "source": [
    "\n",
    "# First cell: Run this cell to enable the Tkinter GUI event loop in Jupyter Notebook.\n",
    "%gui tk\n"
   ]
  },
  {
   "cell_type": "code",
   "execution_count": null,
   "id": "5cef78bb-3b4c-4718-8def-9f38b9ffe1ca",
   "metadata": {},
   "outputs": [],
   "source": [
    "# Second cell: Turtle Graphics Code\n",
    "from turtle import *\n",
    "from colorsys import *\n",
    "\n",
    "# Setup for the turtle\n",
    "setpos(10, 10)\n",
    "speed(-5)\n",
    "bgcolor('black')\n",
    "pensize(2)\n",
    "h = 0.71\n",
    "\n",
    "# Loop to create the spiral pattern\n",
    "for i in range(90):\n",
    "    c = hsv_to_rgb(h, 1, 1)  # Convert HSV to RGB\n",
    "    color(c)\n",
    "    h += 0.008\n",
    "    if h > 1:  # Reset h if it exceeds 1\n",
    "        h -= 1\n",
    "    circle(139, 90)\n",
    "    lt(90)\n",
    "    lt(20)\n",
    "    circle(139, 90)\n",
    "    lt(18)\n",
    "\n",
    "hideturtle()\n",
    "done()\n"
   ]
  },
  {
   "cell_type": "code",
   "execution_count": null,
   "id": "09b09cf6-1e13-4345-a801-25f40dc8bb35",
   "metadata": {},
   "outputs": [],
   "source": []
  }
 ],
 "metadata": {
  "kernelspec": {
   "display_name": "Python 3 (ipykernel)",
   "language": "python",
   "name": "python3"
  },
  "language_info": {
   "codemirror_mode": {
    "name": "ipython",
    "version": 3
   },
   "file_extension": ".py",
   "mimetype": "text/x-python",
   "name": "python",
   "nbconvert_exporter": "python",
   "pygments_lexer": "ipython3",
   "version": "3.12.4"
  }
 },
 "nbformat": 4,
 "nbformat_minor": 5
}
